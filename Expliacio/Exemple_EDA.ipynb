{
 "cells": [
  {
   "cell_type": "code",
   "execution_count": 20,
   "metadata": {},
   "outputs": [
    {
     "name": "stdout",
     "output_type": "stream",
     "text": [
      "                    Track      Artist       Album  Year Duration  \\\n",
      "0      Play A Simple Song  38 Special  38 Special  1977     3:13   \n",
      "1             Four Wheels  38 Special  38 Special  1977     4:43   \n",
      "2                Fly Away  38 Special  38 Special  1977     5:13   \n",
      "3          Tell Everybody  38 Special  38 Special  1977     4:09   \n",
      "4  Just Wanna Rock & Roll  38 Special  38 Special  1977     5:57   \n",
      "\n",
      "   Time_Signature  Danceability  Energy  Key  Loudness  Mode  Speechiness  \\\n",
      "0               4         0.521   0.367    0   -13.866     1       0.0278   \n",
      "1               4         0.535   0.710    2   -12.287     1       0.0428   \n",
      "2               4         0.563   0.563    2   -10.781     1       0.0263   \n",
      "3               4         0.638   0.694   11   -10.206     0       0.0310   \n",
      "4               4         0.388   0.701    2    -9.984     1       0.0360   \n",
      "\n",
      "   Acousticness  Instrumentalness  Liveness  Valence    Tempo  Popularity  \n",
      "0        0.6920          0.000003    0.1080    0.789   83.412          16  \n",
      "1        0.0100          0.023000    0.0495    0.445  160.361          10  \n",
      "2        0.0357          0.001850    0.1400    0.564  106.739          13  \n",
      "3        0.1610          0.000034    0.0908    0.936  124.962          10  \n",
      "4        0.0130          0.042200    0.1150    0.769  126.769          11  \n",
      "Index(['Track', 'Artist', 'Album', 'Year', 'Duration', 'Time_Signature',\n",
      "       'Danceability', 'Energy', 'Key', 'Loudness', 'Mode', 'Speechiness',\n",
      "       'Acousticness', 'Instrumentalness', 'Liveness', 'Valence', 'Tempo',\n",
      "       'Popularity'],\n",
      "      dtype='object')\n"
     ]
    }
   ],
   "source": [
    "# Importar bibliotecas necesarias\n",
    "import pandas as pd\n",
    "import matplotlib.pyplot as plt\n",
    "import seaborn as sns\n",
    "import numpy as np\n",
    "\n",
    "# Cargar el dataset\n",
    "df = pd.read_csv('UltimateClassicRock.csv')\n",
    "\n",
    "# Exploración inicial del dataset\n",
    "print(df.head())  # Ver las primeras filas del dataset\n",
    "print(df.columns) # Ver los nombres de las columnas\n",
    "\n",
    "# Filtrar columnas relevantes: artistas, popularidad, duración de la canción y energía\n",
    "df_filtered = df[['Track', 'Artist', 'Popularity', 'Duration', 'Energy']]"
   ]
  },
  {
   "cell_type": "code",
   "execution_count": 2,
   "metadata": {},
   "outputs": [
    {
     "name": "stdout",
     "output_type": "stream",
     "text": [
      "Track               0\n",
      "Artist              0\n",
      "Album               0\n",
      "Year                0\n",
      "Duration            0\n",
      "Time_Signature      0\n",
      "Danceability        0\n",
      "Energy              0\n",
      "Key                 0\n",
      "Loudness            0\n",
      "Mode                0\n",
      "Speechiness         0\n",
      "Acousticness        0\n",
      "Instrumentalness    0\n",
      "Liveness            0\n",
      "Valence             0\n",
      "Tempo               0\n",
      "Popularity          0\n",
      "dtype: int64\n"
     ]
    }
   ],
   "source": [
    "print(df.isnull().sum())"
   ]
  },
  {
   "cell_type": "code",
   "execution_count": 4,
   "metadata": {},
   "outputs": [
    {
     "name": "stdout",
     "output_type": "stream",
     "text": [
      "                    Track      Artist       Album  Year Duration  \\\n",
      "0      Play A Simple Song  38 Special  38 Special  1977     3:13   \n",
      "1             Four Wheels  38 Special  38 Special  1977     4:43   \n",
      "2                Fly Away  38 Special  38 Special  1977     5:13   \n",
      "3          Tell Everybody  38 Special  38 Special  1977     4:09   \n",
      "4  Just Wanna Rock & Roll  38 Special  38 Special  1977     5:57   \n",
      "\n",
      "   Time_Signature  Danceability  Energy  Key  Loudness  Mode  Speechiness  \\\n",
      "0               4         0.521   0.367    0   -13.866     1       0.0278   \n",
      "1               4         0.535   0.710    2   -12.287     1       0.0428   \n",
      "2               4         0.563   0.563    2   -10.781     1       0.0263   \n",
      "3               4         0.638   0.694   11   -10.206     0       0.0310   \n",
      "4               4         0.388   0.701    2    -9.984     1       0.0360   \n",
      "\n",
      "   Acousticness  Instrumentalness  Liveness  Valence    Tempo  Popularity  \\\n",
      "0        0.6920          0.000003    0.1080    0.789   83.412          16   \n",
      "1        0.0100          0.023000    0.0495    0.445  160.361          10   \n",
      "2        0.0357          0.001850    0.1400    0.564  106.739          13   \n",
      "3        0.1610          0.000034    0.0908    0.936  124.962          10   \n",
      "4        0.0130          0.042200    0.1150    0.769  126.769          11   \n",
      "\n",
      "   Duration_min  Duration+Energy  \n",
      "0      3.216667         3.583667  \n",
      "1      4.716667         5.426667  \n",
      "2      5.216667         5.779667  \n",
      "3      4.150000         4.844000  \n",
      "4      5.950000         6.651000  \n"
     ]
    }
   ],
   "source": [
    "def convertir_a_minutos(duracion):\n",
    "    minutos, segundos = map(int, duracion.split(':'))\n",
    "    return minutos + segundos / 60\n",
    "\n",
    "# Usar .loc[] para evitar SettingWithCopyWarning\n",
    "df.loc[:, 'Duration_min'] = df_filtered['Duration'].apply(convertir_a_minutos)\n",
    "\n",
    "df['Duration+Energy'] = df['Duration_min'] + df['Energy']\n",
    "\n",
    "print(df.head())  # Ver las primeras filas del dataset"
   ]
  },
  {
   "cell_type": "code",
   "execution_count": 22,
   "metadata": {},
   "outputs": [
    {
     "name": "stdout",
     "output_type": "stream",
     "text": [
      "Empty DataFrame\n",
      "Columns: [Track, Artist, Album, Year, Duration, Time_Signature, Danceability, Energy, Key, Loudness, Mode, Speechiness, Acousticness, Instrumentalness, Liveness, Valence, Tempo, Popularity, ColumnaNova]\n",
      "Index: []\n"
     ]
    }
   ],
   "source": [
    "# Omplir amb un valor fix\n",
    "df['ColumnaNova'] = np.nan\n",
    "#print(df.head())  # Ver las primeras filas del dataset\n",
    "\n",
    "# Eliminar files amb valors nuls\n",
    "df = df.dropna()\n",
    "print(df.head())  # Ver las primeras filas del dataset"
   ]
  },
  {
   "cell_type": "code",
   "execution_count": 23,
   "metadata": {},
   "outputs": [
    {
     "name": "stdout",
     "output_type": "stream",
     "text": [
      "                    Track      Artist       Album  Year Duration  \\\n",
      "0      Play A Simple Song  38 Special  38 Special  1977     3:13   \n",
      "1             Four Wheels  38 Special  38 Special  1977     4:43   \n",
      "2                Fly Away  38 Special  38 Special  1977     5:13   \n",
      "3          Tell Everybody  38 Special  38 Special  1977     4:09   \n",
      "4  Just Wanna Rock & Roll  38 Special  38 Special  1977     5:57   \n",
      "\n",
      "   Time_Signature  Danceability  Energy  Key  Loudness  Mode  Speechiness  \\\n",
      "0               4         0.521   0.367    0   -13.866     1       0.0278   \n",
      "1               4         0.535   0.710    2   -12.287     1       0.0428   \n",
      "2               4         0.563   0.563    2   -10.781     1       0.0263   \n",
      "3               4         0.638   0.694   11   -10.206     0       0.0310   \n",
      "4               4         0.388   0.701    2    -9.984     1       0.0360   \n",
      "\n",
      "   Acousticness  Instrumentalness  Liveness  Valence    Tempo  Popularity  \n",
      "0        0.6920          0.000003    0.1080    0.789   83.412          16  \n",
      "1        0.0100          0.023000    0.0495    0.445  160.361          10  \n",
      "2        0.0357          0.001850    0.1400    0.564  106.739          13  \n",
      "3        0.1610          0.000034    0.0908    0.936  124.962          10  \n",
      "4        0.0130          0.042200    0.1150    0.769  126.769          11  \n",
      "Index(['Track', 'Artist', 'Album', 'Year', 'Duration', 'Time_Signature',\n",
      "       'Danceability', 'Energy', 'Key', 'Loudness', 'Mode', 'Speechiness',\n",
      "       'Acousticness', 'Instrumentalness', 'Liveness', 'Valence', 'Tempo',\n",
      "       'Popularity'],\n",
      "      dtype='object')\n",
      "                    Track      Artist       Album  Year Duration  \\\n",
      "0      Play A Simple Song  38 Special  38 Special  1977     3:13   \n",
      "1             Four Wheels  38 Special  38 Special  1977     4:43   \n",
      "2                Fly Away  38 Special  38 Special  1977     5:13   \n",
      "3          Tell Everybody  38 Special  38 Special  1977     4:09   \n",
      "4  Just Wanna Rock & Roll  38 Special  38 Special  1977     5:57   \n",
      "\n",
      "   Time_Signature  Danceability  Energy  Key  Loudness  Mode  Speechiness  \\\n",
      "0               4         0.521   0.367    0   -13.866     1       0.0278   \n",
      "1               4         0.535   0.710    2   -12.287     1       0.0428   \n",
      "2               4         0.563   0.563    2   -10.781     1       0.0263   \n",
      "3               4         0.638   0.694   11   -10.206     0       0.0310   \n",
      "4               4         0.388   0.701    2    -9.984     1       0.0360   \n",
      "\n",
      "   Acousticness  Instrumentalness  Liveness  Valence    Tempo  Popularity  \\\n",
      "0        0.6920          0.000003    0.1080    0.789   83.412          16   \n",
      "1        0.0100          0.023000    0.0495    0.445  160.361          10   \n",
      "2        0.0357          0.001850    0.1400    0.564  106.739          13   \n",
      "3        0.1610          0.000034    0.0908    0.936  124.962          10   \n",
      "4        0.0130          0.042200    0.1150    0.769  126.769          11   \n",
      "\n",
      "   Duration_min  Duration+Energy  \n",
      "0      3.216667         3.583667  \n",
      "1      4.716667         5.426667  \n",
      "2      5.216667         5.779667  \n",
      "3      4.150000         4.844000  \n",
      "4      5.950000         6.651000  \n"
     ]
    }
   ],
   "source": [
    "# Cargar el dataset\n",
    "df = pd.read_csv('UltimateClassicRock.csv')\n",
    "\n",
    "# Exploración inicial del dataset\n",
    "print(df.head())  # Ver las primeras filas del dataset\n",
    "print(df.columns) # Ver los nombres de las columnas\n",
    "\n",
    "# Filtrar columnas relevantes: artistas, popularidad, duración de la canción y energía\n",
    "df_filtered = df[['Track', 'Artist', 'Popularity', 'Duration', 'Energy']]\n",
    "\n",
    "# Usar .loc[] para evitar SettingWithCopyWarning\n",
    "df.loc[:, 'Duration_min'] = df_filtered['Duration'].apply(convertir_a_minutos)\n",
    "\n",
    "df['Duration+Energy'] = df['Duration_min'] + df['Energy']\n",
    "\n",
    "print(df.head())  # Ver las primeras filas del dataset"
   ]
  },
  {
   "cell_type": "code",
   "execution_count": 6,
   "metadata": {},
   "outputs": [],
   "source": [
    "df = df.drop_duplicates()"
   ]
  },
  {
   "cell_type": "code",
   "execution_count": 8,
   "metadata": {},
   "outputs": [],
   "source": [
    "df['Popularity'] = df['Popularity'].astype(float)"
   ]
  },
  {
   "cell_type": "code",
   "execution_count": 9,
   "metadata": {},
   "outputs": [
    {
     "name": "stdout",
     "output_type": "stream",
     "text": [
      "               Year  Time_Signature  Danceability        Energy           Key  \\\n",
      "count  14418.000000    14418.000000  14418.000000  14418.000000  14418.000000   \n",
      "mean    1987.634693        3.917811      0.503063      0.656563      5.166597   \n",
      "std       15.318819        0.356628      0.142619      0.229607      3.503423   \n",
      "min     1962.000000        0.000000      0.000000      0.000000      0.000000   \n",
      "25%     1975.000000        4.000000      0.405000      0.493000      2.000000   \n",
      "50%     1983.000000        4.000000      0.509000      0.690500      5.000000   \n",
      "75%     1999.000000        4.000000      0.603000      0.854000      9.000000   \n",
      "max     2024.000000        5.000000      0.987000      0.998000     11.000000   \n",
      "\n",
      "           Loudness          Mode   Speechiness  Acousticness  \\\n",
      "count  14418.000000  14418.000000  14418.000000  14418.000000   \n",
      "mean      -9.438675      0.730129      0.051354      0.226924   \n",
      "std        4.179623      0.443908      0.046291      0.268857   \n",
      "min      -60.000000      0.000000      0.000000      0.000000   \n",
      "25%      -11.914250      0.000000      0.031800      0.013100   \n",
      "50%       -8.810500      1.000000      0.039000      0.104000   \n",
      "75%       -6.341500      1.000000      0.054300      0.370000   \n",
      "max       -0.203000      1.000000      0.952000      0.995000   \n",
      "\n",
      "       Instrumentalness      Liveness       Valence         Tempo  \\\n",
      "count      14418.000000  14418.000000  14418.000000  14418.000000   \n",
      "mean           0.089682      0.210653      0.528818    122.641620   \n",
      "std            0.215783      0.180537      0.243557     27.940743   \n",
      "min            0.000000      0.000000      0.000000      0.000000   \n",
      "25%            0.000013      0.093800      0.338000    102.196500   \n",
      "50%            0.000737      0.140000      0.529000    121.859000   \n",
      "75%            0.028375      0.278000      0.724750    139.228000   \n",
      "max            0.992000      1.000000      0.991000    238.895000   \n",
      "\n",
      "         Popularity  Duration_min  Duration+Energy  \n",
      "count  14418.000000  14418.000000     14418.000000  \n",
      "mean      25.394438      4.340000         4.996562  \n",
      "std       15.090860      1.735229         1.768223  \n",
      "min        0.000000      0.066667         0.066667  \n",
      "25%       14.000000      3.433333         4.081333  \n",
      "50%       23.000000      4.133333         4.817000  \n",
      "75%       34.000000      4.933333         5.626250  \n",
      "max       91.000000     33.633333        34.198333  \n"
     ]
    }
   ],
   "source": [
    "print(df.describe())"
   ]
  },
  {
   "cell_type": "code",
   "execution_count": 10,
   "metadata": {},
   "outputs": [
    {
     "name": "stdout",
     "output_type": "stream",
     "text": [
      "                      Year  Time_Signature  Danceability    Energy       Key  \\\n",
      "Year              1.000000       -0.002601      0.029797  0.234906  0.008447   \n",
      "Time_Signature   -0.002601        1.000000      0.137758  0.175211  0.000523   \n",
      "Danceability      0.029797        0.137758      1.000000  0.009739  0.012352   \n",
      "Energy            0.234906        0.175211      0.009739  1.000000  0.018662   \n",
      "Key               0.008447        0.000523      0.012352  0.018662  1.000000   \n",
      "Loudness          0.373410        0.115915      0.022443  0.761994 -0.001479   \n",
      "Mode             -0.058380        0.003156      0.014233 -0.037026 -0.167821   \n",
      "Speechiness      -0.009139        0.000988     -0.104989  0.188441  0.023700   \n",
      "Acousticness     -0.171830       -0.144325     -0.017673 -0.669985 -0.012441   \n",
      "Instrumentalness -0.067702       -0.024815     -0.163172 -0.079194  0.004043   \n",
      "Liveness          0.011397       -0.011415     -0.167926  0.189752 -0.009384   \n",
      "Valence          -0.156092        0.134031      0.507946  0.309524  0.017792   \n",
      "Tempo            -0.012243       -0.022424     -0.160624  0.186960  0.007395   \n",
      "Popularity       -0.233772        0.018642     -0.010132 -0.014111 -0.014533   \n",
      "Duration_min      0.086542        0.011255     -0.151187  0.078902  0.002278   \n",
      "Duration+Energy   0.115430        0.033797     -0.147101  0.207282  0.004658   \n",
      "\n",
      "                  Loudness      Mode  Speechiness  Acousticness  \\\n",
      "Year              0.373410 -0.058380    -0.009139     -0.171830   \n",
      "Time_Signature    0.115915  0.003156     0.000988     -0.144325   \n",
      "Danceability      0.022443  0.014233    -0.104989     -0.017673   \n",
      "Energy            0.761994 -0.037026     0.188441     -0.669985   \n",
      "Key              -0.001479 -0.167821     0.023700     -0.012441   \n",
      "Loudness          1.000000 -0.009880     0.031783     -0.501768   \n",
      "Mode             -0.009880  1.000000    -0.044685      0.043463   \n",
      "Speechiness       0.031783 -0.044685     1.000000     -0.048197   \n",
      "Acousticness     -0.501768  0.043463    -0.048197      1.000000   \n",
      "Instrumentalness -0.207757 -0.050104     0.004139      0.108103   \n",
      "Liveness          0.098686  0.001378     0.135989     -0.074437   \n",
      "Valence           0.135869  0.048773    -0.072543     -0.208210   \n",
      "Tempo             0.116997  0.010335     0.104780     -0.138945   \n",
      "Popularity       -0.003463 -0.019034    -0.008277      0.013512   \n",
      "Duration_min      0.078085 -0.083377    -0.007629     -0.125746   \n",
      "Duration+Energy   0.175575 -0.086629     0.016983     -0.210398   \n",
      "\n",
      "                  Instrumentalness  Liveness   Valence     Tempo  Popularity  \\\n",
      "Year                     -0.067702  0.011397 -0.156092 -0.012243   -0.233772   \n",
      "Time_Signature           -0.024815 -0.011415  0.134031 -0.022424    0.018642   \n",
      "Danceability             -0.163172 -0.167926  0.507946 -0.160624   -0.010132   \n",
      "Energy                   -0.079194  0.189752  0.309524  0.186960   -0.014111   \n",
      "Key                       0.004043 -0.009384  0.017792  0.007395   -0.014533   \n",
      "Loudness                 -0.207757  0.098686  0.135869  0.116997   -0.003463   \n",
      "Mode                     -0.050104  0.001378  0.048773  0.010335   -0.019034   \n",
      "Speechiness               0.004139  0.135989 -0.072543  0.104780   -0.008277   \n",
      "Acousticness              0.108103 -0.074437 -0.208210 -0.138945    0.013512   \n",
      "Instrumentalness          1.000000  0.045915 -0.091231 -0.042039   -0.036204   \n",
      "Liveness                  0.045915  1.000000 -0.040711  0.010906   -0.047939   \n",
      "Valence                  -0.091231 -0.040711  1.000000  0.114292    0.015726   \n",
      "Tempo                    -0.042039  0.010906  0.114292  1.000000    0.002066   \n",
      "Popularity               -0.036204 -0.047939  0.015726  0.002066    1.000000   \n",
      "Duration_min              0.028605  0.048309 -0.199918 -0.020868    0.075842   \n",
      "Duration+Energy           0.017787  0.072047 -0.155996  0.003798    0.072594   \n",
      "\n",
      "                  Duration_min  Duration+Energy  \n",
      "Year                  0.086542         0.115430  \n",
      "Time_Signature        0.011255         0.033797  \n",
      "Danceability         -0.151187        -0.147101  \n",
      "Energy                0.078902         0.207282  \n",
      "Key                   0.002278         0.004658  \n",
      "Loudness              0.078085         0.175575  \n",
      "Mode                 -0.083377        -0.086629  \n",
      "Speechiness          -0.007629         0.016983  \n",
      "Acousticness         -0.125746        -0.210398  \n",
      "Instrumentalness      0.028605         0.017787  \n",
      "Liveness              0.048309         0.072047  \n",
      "Valence              -0.199918        -0.155996  \n",
      "Tempo                -0.020868         0.003798  \n",
      "Popularity            0.075842         0.072594  \n",
      "Duration_min          1.000000         0.991586  \n",
      "Duration+Energy       0.991586         1.000000  \n"
     ]
    }
   ],
   "source": [
    "print(df.corr())"
   ]
  },
  {
   "cell_type": "code",
   "execution_count": 17,
   "metadata": {},
   "outputs": [
    {
     "data": {
      "text/plain": [
       "<AxesSubplot:>"
      ]
     },
     "execution_count": 17,
     "metadata": {},
     "output_type": "execute_result"
    },
    {
     "data": {
      "image/png": "[encoded data removed]",
      "text/plain": [
       "<Figure size 432x288 with 2 Axes>"
      ]
     },
     "metadata": {
      "needs_background": "light"
     },
     "output_type": "display_data"
    }
   ],
   "source": [
    "import seaborn as sns\n",
    "sns.heatmap(df.corr(), annot=False, cmap='coolwarm')"
   ]
  },
  {
   "cell_type": "code",
   "execution_count": 15,
   "metadata": {},
   "outputs": [
    {
     "data": {
      "text/plain": [
       "<AxesSubplot:xlabel='Duration_min'>"
      ]
     },
     "execution_count": 15,
     "metadata": {},
     "output_type": "execute_result"
    },
    {
     "data": {
      "image/png": "[encoded data removed]",
      "text/plain": [
       "<Figure size 432x288 with 1 Axes>"
      ]
     },
     "metadata": {
      "needs_background": "light"
     },
     "output_type": "display_data"
    }
   ],
   "source": [
    "sns.boxplot(data=df, x='Duration_min')"
   ]
  },
  {
   "cell_type": "code",
   "execution_count": 16,
   "metadata": {},
   "outputs": [
    {
     "data": {
      "image/png": "[encoded data removed]",
      "text/plain": [
       "<Figure size 432x288 with 1 Axes>"
      ]
     },
     "metadata": {
      "needs_background": "light"
     },
     "output_type": "display_data"
    }
   ],
   "source": [
    "import matplotlib.pyplot as plt\n",
    "plt.hist(df['Popularity'], bins=20, color='blue', edgecolor='black')\n",
    "plt.show()\n"
   ]
  }
 ],
 "metadata": {
  "kernelspec": {
   "display_name": "Python 3",
   "language": "python",
   "name": "python3"
  },
  "language_info": {
   "codemirror_mode": {
    "name": "ipython",
    "version": 3
   },
   "file_extension": ".py",
   "mimetype": "text/x-python",
   "name": "python",
   "nbconvert_exporter": "python",
   "pygments_lexer": "ipython3",
   "version": "3.8.5"
  }
 },
 "nbformat": 4,
 "nbformat_minor": 4
}
